{
 "cells": [
  {
   "cell_type": "markdown",
   "metadata": {},
   "source": [
    "# Prueba técnica ecosistemas"
   ]
  },
  {
   "cell_type": "markdown",
   "metadata": {},
   "source": [
    "El objetivo principal de este proyecto es implementar una herramienta automatizada que permita a la empresa BATSEJ OPEN FINANCE S.A. calcular mensualmente las comisiones de las cuentas bancarias de sus empresas contratantes de manera rápida, precisa y confiable. Esta automatización no solo optimiza el tiempo invertido en el proceso, sino que también aumenta la fiabilidad de los cálculos y mejora el rendimiento operativo.\n",
    "\n",
    "Al reducir el esfuerzo manual y minimizar los errores humanos, la automatización garantiza una mayor eficiencia operativa, lo cual se traduce en un claro aumento del retorno sobre la inversión (ROI). Esto no solo mejora la rentabilidad del negocio, sino que también eleva el nivel de satisfacción y fidelización de los clientes, al brindarles un servicio más ágil y confiable.\n",
    "\n",
    "Además, al implementar esta solución novedosa, BATSEJ OPEN FINANCE S.A. se posiciona de manera más competitiva en el mercado, abriendo la puerta a nuevos proyectos y desafíos. La capacidad de responder con rapidez y precisión a las necesidades de los clientes fortalece la relación comercial, mejora la reputación de la empresa y genera oportunidades para expandir su portafolio de servicios.\n",
    "\n",
    "### Implementación de librerias \n",
    "\n",
    "Para comenzar importarmos las librerías necesarias. Primero, utilizamos sqlite3, ya que nuestra base de datos está en este formato. Esta librería nos permite conectarnos directamente a la base de datos, facilitando la búsqueda, extracción y análisis de las tablas necesarias para el cálculo de comisiones.\n",
    "\n",
    "A continuación, empleamos pandas, una librería clave de Python para la manipulación de datos. Con pandas, podemos construir y gestionar de manera eficiente diferentes data frames, lo que nos permitirá analizar grandes volúmenes de información de forma estructurada.\n",
    "\n",
    "Para manejar los archivos en formato Excel, hacemos uso de openpyxl, que facilita tanto la creación como la edición de estos archivos. Esto nos permitirá exportar los resultados del análisis de comisiones en un formato fácil de compartir y presentar.\n",
    "\n",
    "Utilizamos las librerías smtplib y email.message para automatizar el envío de correos electrónicos. Estas herramientas nos permiten construir un script que envía automáticamente los resultados obtenidos, generando un flujo continuo entre el análisis y la distribución de la información. Así, aseguramos que las empresas eciban la información sobre sus comisiones de manera oportuna y precisa.\n",
    "\n",
    "Finalmente, las librerias os y dotenv nos permitirán hacer un manejo más responsable de los correos y contraseñas a la hora de enviar el correo electrónico requerido, evitando fechas escritas de forma manual dentro del código, solo será necesario invocar el archivo.env de la carpeta de trabajo donde se alojará dicha información.\n",
    "\n"
   ]
  },
  {
   "cell_type": "code",
   "execution_count": 1,
   "metadata": {},
   "outputs": [],
   "source": [
    "# Importamos las librerias requeridas para la implementación del ejercicio\n",
    "\n",
    "import sqlite3\n",
    "import pandas as pd\n",
    "import openpyxl\n",
    "import smtplib\n",
    "from email.message import EmailMessage\n",
    "from dotenv import load_dotenv\n",
    "import os"
   ]
  },
  {
   "cell_type": "code",
   "execution_count": 2,
   "metadata": {},
   "outputs": [],
   "source": [
    "path_base = os.getcwd()\n",
    "\n",
    "# Insumos\n",
    "path_resultados = os.path.join(path_base, 'Resultados')\n",
    "path_env = os.path.join(path_base, '.env')"
   ]
  },
  {
   "cell_type": "markdown",
   "metadata": {},
   "source": [
    "Ahora, implementamos la clase Calculo_comisiones, la cual se diseñó con el propósito de definir las funciones clave que automatizan el cálculo y el cobro de comisiones, cumpliendo con los requerimientos establecidos. A continuación, se explican las características principales de cada función:\n",
    "\n",
    "- Función ***obtener_datos***: Esta función establece la conexión a la base de datos SQlite permitiendo extraer la información requerida desde las tablas \"apicall\" y \"commerce\". El siguiente paso es unificar ambas tablas haciendo uso del lenguaje SQL, en este caso usamos la instrucción left join tomando la tabla apicall como la principal (tabla izquierda) para unir en cada registro los campos commerce_nit, commerce_name, commerce_status y commerce_email de la tabla commerce, se usa como llave de cruce el campo commerce_id. Además,  Además, se filtran los datos según el mes de interés mediante la instrucción WHERE, garantizando que solo se extraiga la información correspondiente al período de cálculo.\n",
    "\n",
    "- Función ***cobro_peticiones***: Esta función automatiza el cálculo de las comisiones para cada empresa, para ello se requiere ingresar como hiperparametros los campos referentes al número total de peticiones, tanto exitosas como fallidas, así como el IVA y precios referetes a la información suministrada. Cabe resaltar que las condiciones de contrato dadas por las empresas son las que se generan en esta función, se automatizan los campos de tal forma que si se requiere hacer cambios futuros se ingresen dichos cambios a la función sin modificar la estructura del programa. Este diseño flexible asegura que cualquier cambio en los parámetros pueda ser fácilmente integrado al programa, cumpliendo así el objetivo de automatización establecido desde el principio.\n",
    "\n",
    "- Función ***calcular_comision***:Aquí se genera la tabla final llamada resultado_tab, que consolida para cada empresa el número total de peticiones (exitosas y fallidas), junto con su NIT, nombre y correo electrónico. Esto se logra mediante un cruce (merge) entre la tabla de resultados y la tabla commerce, nuevamente utilizando el campo commerce_id como llave. Con estos datos, se llama a la función cobro_peticiones definida anteriormente, para calcular automáticamente el valor_total, valor_comisión y valor_iva, que constituyen los montos finales a cobrar. Esta tabla final es fundamental para enviar la información consolidada de los clientes. Notemos que como condición se debe cumplir que en el campo commerce_status este en estado \"Active\" para realizar los cálculos correspondientes. La automatización nos permite realizar los cálculos para las empresas en estado \"Inactive\" cuando estas cambien su estado, mientras tanto sus valores por defecto serán cero.\n",
    "\n",
    "- Función ***enviar_correo***: Esta función automatiza el envío de las facturas generadas a las empresas contratantes. Cada factura contiene un contenido detallado de los montos calculados. Para ejecutar esta función, se requieren como parámetros el archivo Excel con los detalles de la comisión, el destinatario y remitente, junto con las credenciales de correo (cuenta y contraseña). En este ejercicio, se spuede encontrar un archivo .env donde se encuentran hospedadas tanto los campos para destinatario, remitente y su contraseña, los cuales pueden ser cambiados por el usuario de acuerdo con la dirección de correo que se quiera  enviar así como desde donde se vaya a realizar. Se usa esta configuración para no exponer información confidencial, a su vez esto nos ayuda aún más a automatizar este proceso."
   ]
  },
  {
   "cell_type": "code",
   "execution_count": 41,
   "metadata": {},
   "outputs": [],
   "source": [
    "class Calculo_comisiones:\n",
    "    \n",
    "    def __init__(self, conn):\n",
    "        self.conn = conn\n",
    "        self.cursor = self.conn.cursor()\n",
    "\n",
    "    def obtener_datos(self, mes):\n",
    "        query = f\"\"\"\n",
    "        CREATE TABLE IF NOT EXISTS resultado AS\n",
    "        SELECT A.*, C.* \n",
    "        FROM apicall AS A\n",
    "        LEFT JOIN commerce AS C\n",
    "        ON A.commerce_id = C.commerce_id\n",
    "        WHERE strftime('%Y-%m', A.date_api_call) = '{mes}' \n",
    "        \"\"\"\n",
    "        self.cursor.execute(query)\n",
    "        self.conn.commit()\n",
    "\n",
    "    def cobro_peticiones(self, empresa, peticiones_exitosas, peticiones_fallidas, peticiones_totales, precios, limites,descuentos, porcentajes, iva):\n",
    "        total = 0\n",
    "        if empresa == 'Innovexa Solutions':\n",
    "            total = peticiones_exitosas*precios['Innovexa Solutions'] + peticiones_exitosas*precios['Innovexa Solutions']*iva\n",
    "        elif empresa == 'NexaTech Industries':\n",
    "            if peticiones_totales <= limites['NexaTech Industries'][0]:\n",
    "                total = peticiones_exitosas*precios['NexaTech Industries'][0] + peticiones_exitosas*precios['NexaTech Industries'][0]*iva\n",
    "            elif peticiones_totales <= limites['NexaTech Industries'][1]:\n",
    "                total = peticiones_exitosas*precios['NexaTech Industries'][1] + peticiones_exitosas*precios['NexaTech Industries'][1]*iva\n",
    "            else:\n",
    "                total = peticiones_exitosas*precios['NexaTech Industries'][2] + peticiones_exitosas*precios['NexaTech Industries'][2]*iva\n",
    "        elif empresa == 'QuantumLeap Inc.':\n",
    "            total = peticiones_exitosas*precios['QuantumLeap Inc.'] + peticiones_exitosas*precios['QuantumLeap Inc.']*iva\n",
    "        elif empresa == 'Zenith Corp.':\n",
    "            if peticiones_totales >= 0 and peticiones_totales <= limites['Zenith Corp.']:\n",
    "                total = peticiones_exitosas*precios['Zenith Corp.'][0] + peticiones_exitosas*precios['Zenith Corp.'][0]*iva\n",
    "            elif peticiones_totales > limites['Zenith Corp.']:\n",
    "                total = peticiones_exitosas*precios['Zenith Corp.'][1] + peticiones_exitosas*precios['Zenith Corp.'][1]*iva\n",
    "            if peticiones_fallidas >= descuentos['Zenith Corp.']:\n",
    "                total = total - total*porcentajes['Zenith Corp.']\n",
    "        elif empresa == 'FusionWave Enterprises':\n",
    "            total = peticiones_exitosas*precios['FusionWave Enterprises'] + peticiones_exitosas*precios['FusionWave Enterprises']*iva\n",
    "            if descuentos['FusionWave Enterprises'][0] <= peticiones_fallidas <= descuentos['FusionWave Enterprises'][1]:\n",
    "                total = total - total*porcentajes['FusionWave Enterprises'][0]  \n",
    "            elif peticiones_fallidas > descuentos['FusionWave Enterprises'][1]:\n",
    "                total = total - total*porcentajes['FusionWave Enterprises'][1]\n",
    "        return total\n",
    "\n",
    "    def calcular_comision(self, mes, precios, iva):\n",
    "        self.obtener_datos(mes)\n",
    "        \n",
    "        resultado = pd.read_sql(\"SELECT * FROM resultado\", self.conn)\n",
    "        commerce = pd.read_sql(\"SELECT * FROM commerce\", self.conn)\n",
    "        \n",
    "        resultado_tab = pd.crosstab(resultado['commerce_id'], resultado['ask_status'])\n",
    "        resultado_tab['Total'] = resultado_tab['Successful'] + resultado_tab['Unsuccessful']\n",
    "\n",
    "        resultado_tab = resultado_tab.merge(commerce[['commerce_id', 'commerce_name', 'commerce_nit', 'commerce_email', 'commerce_status']], \n",
    "                                            left_on='commerce_id', right_on='commerce_id', how='left')\n",
    "    \n",
    "        resultado_tab['Cobro Total'] = resultado_tab.apply(\n",
    "            lambda row: self.cobro_peticiones(row['commerce_name'], row['Successful'], row['Unsuccessful'], row['Total'], precios, limites, descuentos, porcentajes, iva) \n",
    "            if row['commerce_status'] == 'Active' else 0, axis=1)\n",
    "    \n",
    "    \n",
    "        resultado_tab['Valor_comision'] = resultado_tab.apply(lambda row: row['Cobro Total'] / (1 + iva) if row['commerce_status'] == 'Active' else 0, axis=1)\n",
    "        resultado_tab['Valor_iva'] = resultado_tab.apply(lambda row: row['Valor_comision'] * iva if row['commerce_status'] == 'Active' else 0, axis=1)\n",
    "        resultado_tab['Valor_Total'] = resultado_tab['Cobro Total']\n",
    "    \n",
    "        resultado_tab['Fecha-Mes'] = mes\n",
    "    \n",
    "        return resultado_tab\n",
    "    \n",
    "    def enviar_correo(self, archivo_excel, destinatario, remitente, contrasena):\n",
    "        # Crear el mensaje\n",
    "        msg = EmailMessage()\n",
    "        msg.set_content(f\"Hola, espero se encuentren muy bien,\\n\\nAdjunto el archivo donde se encuentra los resultados de las comisiones calculadas para cada empresa.\\n\\nSaludos\")\n",
    "        msg['Subject'] = 'Resultados de Comisiones'\n",
    "        msg['From'] = remitente\n",
    "        msg['To'] = destinatario\n",
    "    \n",
    "        # Adjuntar el archivo Excel\n",
    "        with open(archivo_excel, 'rb') as f:\n",
    "            file_data = f.read()\n",
    "            file_name = f.name\n",
    "    \n",
    "        msg.add_attachment(file_data, maintype='application', subtype='octet-stream', filename=file_name)\n",
    "    \n",
    "        # Conectar al servidor SMTP de Outlook y enviar el mensaje\n",
    "        smtp_server = 'smtp.office365.com'\n",
    "        smtp_port = 587\n",
    "    \n",
    "        try:\n",
    "            with smtplib.SMTP(smtp_server, smtp_port) as server:\n",
    "                server.starttls()  # Establecer una conexiÃ³n segura\n",
    "                server.login(remitente, contrasena)\n",
    "                server.send_message(msg)\n",
    "                print(f\"Correo electrónico enviado exitosamente a {destinatario}.\")\n",
    "        except Exception as e:\n",
    "            print(f\"Error al enviar el correo a {destinatario}: {e}\")\n",
    "            \n",
    "            "
   ]
  },
  {
   "cell_type": "markdown",
   "metadata": {},
   "source": [
    "Con la definición de las funciones dentro de la clase Calculo_comisiones, procedemos a su ejecución. La ventaja clave de utilizar una clase parametrizada es la capacidad de ajustar dinámicamente los parámetros según las necesidades del negocio. Esto significa que, ante cambios en valores críticos como la fecha de interés, el costo por petición exitosa, cambios de descuentos, umbrales de cobro o el IVA, el sistema permitirá realizar ajustes inmediatos sin la necesidad de modificar el código o recalcular manualmente los campos de interés, solo será necesario cambiar la información en los diccionarios proporcionados."
   ]
  },
  {
   "cell_type": "code",
   "execution_count": 42,
   "metadata": {},
   "outputs": [],
   "source": [
    "# Conectar a la base de datos SQLite\n",
    "\n",
    "conn = sqlite3.connect('C:/Prueba_ecosistemas/database.sqlite')\n",
    "calculo = Calculo_comisiones(conn)"
   ]
  },
  {
   "cell_type": "code",
   "execution_count": 43,
   "metadata": {},
   "outputs": [],
   "source": [
    "precios = {\n",
    "    'Innovexa Solutions': 300,\n",
    "    'NexaTech Industries': [250,  # Asignar si hay entre 0 a 10.000 peticiones totales\n",
    "                            200,  # Asignar si hay entre 10.001 a 20.000 peticiones totales\n",
    "                            170], # Asignar si hay más de 20.001 peticiones totales\n",
    "    'QuantumLeap Inc.': 600, \n",
    "    'Zenith Corp.': [250,  # Asignar si hay entre 0 a 22.000 peticiones totales\n",
    "                     130], # Asignar si hay más de 22.001 peticiones totales\n",
    "    'FusionWave Enterprises': 300\n",
    "}\n",
    "limites = {\n",
    "    'NexaTech Industries': [10000, 20000],  # Límites de peticiones totales\n",
    "    'Zenith Corp.': 22000  # Límites de peticiones totales\n",
    "}\n",
    "descuentos = {\n",
    "    'FusionWave Enterprises': [2500, 4500],  # Rango para descuento\n",
    "    'Zenith Corp.': 6000  # Valor para descuento\n",
    "}\n",
    "porcentajes = {\n",
    "    'FusionWave Enterprises': [0.05, 0.08],  # Rango para descuento\n",
    "    'Zenith Corp.': 0.05  # Valor para descuento\n",
    "}\n",
    "\n",
    "\n",
    "iva = 0.19 # Se añade el valor del IVA colombiano\n",
    "mes = '2024-08' # Se añade el mes que se quiere desglosar, como ejemplo tomamos Julio del 2024"
   ]
  },
  {
   "cell_type": "code",
   "execution_count": 44,
   "metadata": {},
   "outputs": [],
   "source": [
    "# Calcular comisiones segpun la información suministrada anteriormente\n",
    "\n",
    "resultado_tab = calculo.calcular_comision(mes, precios, iva)"
   ]
  },
  {
   "cell_type": "code",
   "execution_count": 45,
   "metadata": {},
   "outputs": [],
   "source": [
    "archivo_excel = 'resultados_comisiones.xlsx'\n",
    "df_final = resultado_tab[['Fecha-Mes', 'commerce_name', 'commerce_nit', 'Valor_comision', 'Valor_iva', 'Valor_Total', 'commerce_email']]\n",
    "df_final = df_final.rename(columns={'commerce_name': 'Nombre', 'commerce_nit': 'Nit', 'commerce_email': 'Correo'})\n",
    "df_final.to_excel(archivo_excel, index=False)"
   ]
  },
  {
   "cell_type": "code",
   "execution_count": 46,
   "metadata": {},
   "outputs": [
    {
     "data": {
      "text/html": [
       "<div>\n",
       "<style scoped>\n",
       "    .dataframe tbody tr th:only-of-type {\n",
       "        vertical-align: middle;\n",
       "    }\n",
       "\n",
       "    .dataframe tbody tr th {\n",
       "        vertical-align: top;\n",
       "    }\n",
       "\n",
       "    .dataframe thead th {\n",
       "        text-align: right;\n",
       "    }\n",
       "</style>\n",
       "<table border=\"1\" class=\"dataframe\">\n",
       "  <thead>\n",
       "    <tr style=\"text-align: right;\">\n",
       "      <th></th>\n",
       "      <th>Fecha-Mes</th>\n",
       "      <th>Nombre</th>\n",
       "      <th>Nit</th>\n",
       "      <th>Valor_comision</th>\n",
       "      <th>Valor_iva</th>\n",
       "      <th>Valor_Total</th>\n",
       "      <th>Correo</th>\n",
       "    </tr>\n",
       "  </thead>\n",
       "  <tbody>\n",
       "    <tr>\n",
       "      <th>0</th>\n",
       "      <td>2024-08</td>\n",
       "      <td>Zenith Corp.</td>\n",
       "      <td>28960112</td>\n",
       "      <td>29712988.5</td>\n",
       "      <td>5.645468e+06</td>\n",
       "      <td>3.535846e+07</td>\n",
       "      <td>zenithcorp.@gemaily.net</td>\n",
       "    </tr>\n",
       "    <tr>\n",
       "      <th>1</th>\n",
       "      <td>2024-08</td>\n",
       "      <td>FusionWave Enterprises</td>\n",
       "      <td>919341007</td>\n",
       "      <td>66103932.0</td>\n",
       "      <td>1.255975e+07</td>\n",
       "      <td>7.866368e+07</td>\n",
       "      <td>fusionwaveenterprises@microfitsof.com</td>\n",
       "    </tr>\n",
       "    <tr>\n",
       "      <th>2</th>\n",
       "      <td>2024-08</td>\n",
       "      <td>Innovexa Solutions</td>\n",
       "      <td>445470636</td>\n",
       "      <td>0.0</td>\n",
       "      <td>0.000000e+00</td>\n",
       "      <td>0.000000e+00</td>\n",
       "      <td>innovexasolutions@microfitsof.com</td>\n",
       "    </tr>\n",
       "    <tr>\n",
       "      <th>3</th>\n",
       "      <td>2024-08</td>\n",
       "      <td>QuantumLeap Inc.</td>\n",
       "      <td>198818316</td>\n",
       "      <td>143985600.0</td>\n",
       "      <td>2.735726e+07</td>\n",
       "      <td>1.713429e+08</td>\n",
       "      <td>quantumleapinc.@gemaily.net</td>\n",
       "    </tr>\n",
       "    <tr>\n",
       "      <th>4</th>\n",
       "      <td>2024-08</td>\n",
       "      <td>NexaTech Industries</td>\n",
       "      <td>452680670</td>\n",
       "      <td>40865450.0</td>\n",
       "      <td>7.764436e+06</td>\n",
       "      <td>4.862989e+07</td>\n",
       "      <td>nexatechindustries@gemaily.net</td>\n",
       "    </tr>\n",
       "  </tbody>\n",
       "</table>\n",
       "</div>"
      ],
      "text/plain": [
       "  Fecha-Mes                  Nombre        Nit  Valor_comision     Valor_iva  \\\n",
       "0   2024-08            Zenith Corp.   28960112      29712988.5  5.645468e+06   \n",
       "1   2024-08  FusionWave Enterprises  919341007      66103932.0  1.255975e+07   \n",
       "2   2024-08      Innovexa Solutions  445470636             0.0  0.000000e+00   \n",
       "3   2024-08        QuantumLeap Inc.  198818316     143985600.0  2.735726e+07   \n",
       "4   2024-08     NexaTech Industries  452680670      40865450.0  7.764436e+06   \n",
       "\n",
       "    Valor_Total                                 Correo  \n",
       "0  3.535846e+07                zenithcorp.@gemaily.net  \n",
       "1  7.866368e+07  fusionwaveenterprises@microfitsof.com  \n",
       "2  0.000000e+00      innovexasolutions@microfitsof.com  \n",
       "3  1.713429e+08            quantumleapinc.@gemaily.net  \n",
       "4  4.862989e+07         nexatechindustries@gemaily.net  "
      ]
     },
     "execution_count": 46,
     "metadata": {},
     "output_type": "execute_result"
    }
   ],
   "source": [
    "df_final"
   ]
  },
  {
   "cell_type": "code",
   "execution_count": 52,
   "metadata": {},
   "outputs": [],
   "source": [
    "#Ahora enviamos un correo para el remitente con sus respectivos calculos de comisiones\n",
    "\n",
    "load_dotenv(path_env)\n",
    "correo_remitente = os.getenv('CORREO_REMITENTE')\n",
    "correo_ejecutor = os.getenv('CORREO_EJECUTOR')\n",
    "password = os.getenv('PASSWORD')"
   ]
  },
  {
   "cell_type": "code",
   "execution_count": 53,
   "metadata": {},
   "outputs": [],
   "source": [
    "date_str = str(mes)\n",
    "date_str\n",
    "\n",
    "# Agrega la fecha al nombre de los archivos de salida\n",
    "xlsx_filename = os.path.join(path_resultados, f'Cobro_comisión_{date_str}.xlsx')\n",
    "df_final.to_excel(xlsx_filename, index=False, header=False)"
   ]
  },
  {
   "cell_type": "code",
   "execution_count": 54,
   "metadata": {},
   "outputs": [
    {
     "name": "stdout",
     "output_type": "stream",
     "text": [
      "Correo electrónico enviado exitosamente a danielvallejo20@hotmail.com.\n"
     ]
    }
   ],
   "source": [
    "# Enviar el correo como ejecutor\n",
    "\n",
    "# Guardar el DataFrame como archivo Excel general\n",
    "archivo_excel = xlsx_filename\n",
    "\n",
    "# Enviar el correo como ejecutor\n",
    "calculo.enviar_correo(archivo_excel, correo_ejecutor, correo_remitente, password)"
   ]
  },
  {
   "cell_type": "markdown",
   "metadata": {},
   "source": [
    "Esta automatización ofrece una serie de ventajas estratégicas para el negocio. Por ejemplo, reduce significativamente la necesidad de realizar cálculos manuales, liberando tiempo para que el personal y los recursos pertinentes puedan enfocarse en otras tareas. Además, se mitiga el riesgo de errores humanos, ya que los resultados son consistentes y estandarizados, eliminando la variabilidad que puede surgir en los cálculos manuales, donde es fácil equivocarse tanto en la parte conceptual como en la práctica. El modelo parametrizado está diseñado para adaptarse fácilmente a cambios futuros, lo que facilita la actualización de condiciones comerciales sin afectar la estructura del código. Con estos cambios, se espera un impacto significativamente positivo en la eficiencia operativa, mejorando tanto los indicadores económicos de la empresa como la apertura a nuevos clientes y la fidelización de los ya existentes.\n",
    "\n",
    "Evolución futura de la propuesta: Para mejorar la implementación en proyectos futuros, se podría considerar las siguientes aspectos:\n",
    "\n",
    "- Parametrizar los campos de los contratos variables desde un archivo JSON para optimizar su ejecución.\n",
    "- Proponer una función que permita ejecutar por medio de consola el diligenciamiento del correo del usuario y su contraseña a la hora de ejecutar el código python.\n",
    "\n",
    "\n",
    "Modificaciones e implementaciones a futuro:\n",
    "\n",
    "Este proceso puede ser implementado en un entorno productivo a futuro, ya sea mediante una calendarización interna en la empresa o migrándolo a un servidor en la nube. Esto permitiría interactuar con una variedad de herramientas digitales que ofrecen servicios complementarios, ampliando el impacto estratégico. Por ejemplo, se podrían crear repositorios de almacenamiento y generar reportes visuales en Power BI, detallando de manera clara la información entrante como los resultados para generar insides de valor comercial. Además, se podría analizar la implementación de chatbots, lo que permitiría a BATSEJ OPEN FINANCE S.A proporcionar información valiosa en tiempo real a sus aliados estratégicos, mejorando la experiencia de usuario y optimizando las consultas."
   ]
  }
 ],
 "metadata": {
  "kernelspec": {
   "display_name": "Python 3 (ipykernel)",
   "language": "python",
   "name": "python3"
  },
  "language_info": {
   "codemirror_mode": {
    "name": "ipython",
    "version": 3
   },
   "file_extension": ".py",
   "mimetype": "text/x-python",
   "name": "python",
   "nbconvert_exporter": "python",
   "pygments_lexer": "ipython3",
   "version": "3.11.5"
  }
 },
 "nbformat": 4,
 "nbformat_minor": 2
}
