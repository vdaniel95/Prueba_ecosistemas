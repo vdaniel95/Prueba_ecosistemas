{
 "cells": [
  {
   "cell_type": "markdown",
   "metadata": {},
   "source": [
    "# Prueba técnica ecosistemas"
   ]
  },
  {
   "cell_type": "code",
   "execution_count": null,
   "metadata": {},
   "outputs": [],
   "source": []
  },
  {
   "cell_type": "code",
   "execution_count": 5,
   "metadata": {},
   "outputs": [
    {
     "ename": "ModuleNotFoundError",
     "evalue": "No module named 'pandas'",
     "output_type": "error",
     "traceback": [
      "\u001b[1;31m---------------------------------------------------------------------------\u001b[0m",
      "\u001b[1;31mModuleNotFoundError\u001b[0m                       Traceback (most recent call last)",
      "Cell \u001b[1;32mIn[5], line 4\u001b[0m\n\u001b[0;32m      1\u001b[0m \u001b[38;5;66;03m# Importamos las librerias requeridas para la implementación del ejercicio\u001b[39;00m\n\u001b[0;32m      2\u001b[0m \n\u001b[0;32m      3\u001b[0m \u001b[38;5;66;03m#import sqlite3\u001b[39;00m\n\u001b[1;32m----> 4\u001b[0m \u001b[38;5;28;01mimport\u001b[39;00m \u001b[38;5;21;01mpandas\u001b[39;00m \u001b[38;5;28;01mas\u001b[39;00m \u001b[38;5;21;01mpd\u001b[39;00m\n",
      "\u001b[1;31mModuleNotFoundError\u001b[0m: No module named 'pandas'"
     ]
    }
   ],
   "source": [
    "# Importamos las librerias requeridas para la implementación del ejercicio\n",
    "\n",
    "import sqlite3\n",
    "import pandas as pd"
   ]
  },
  {
   "cell_type": "markdown",
   "metadata": {},
   "source": [
    "Implementamos la clase Calculo_comisiones para definir las funciones que necesitamos para\n",
    "realizar el ejercicio propuesto, entre estas, se encuentra la función obtener_datos, para extraer la información de la base datos en SQlite proporcionada. Tambien, definimos la función cobro_peticiones donde se automatizan las condiciones de cobro requeridas para cada una de las empresas, considerando la cantidad total de peticiones, las que fueron exitosas, las peticiones que no fueron exitosas, así como los cobros corresponientes incluyendo tanto el IVA como los descuentos aplicables. "
   ]
  },
  {
   "cell_type": "code",
   "execution_count": 2,
   "metadata": {},
   "outputs": [],
   "source": [
    "class Calculo_comisiones:\n",
    "    \n",
    "    def __init__(self, conn):\n",
    "        self.conn = conn\n",
    "        self.cursor = self.conn.cursor()\n",
    "\n",
    "    # Consulta SQL para obtener los datos requeridos cruzando ambas tablas\n",
    "    def obtener_datos(self, mes):\n",
    "        query = f\"\"\"\n",
    "        CREATE TABLE IF NOT EXISTS resultado AS\n",
    "        SELECT A.*, C.*\n",
    "        FROM apicall AS A\n",
    "        LEFT JOIN commerce AS C\n",
    "        ON A.commerce_id = C.commerce_id\n",
    "        WHERE strftime('%Y-%m', A.date_api_call) = '{mes}'\n",
    "        \"\"\"\n",
    "        self.cursor.execute(query)\n",
    "        self.conn.commit()\n",
    "\n",
    "    def cobro_peticiones(self, empresa, peticiones_exitosas, peticiones_fallidas, peticiones_totales, precios, iva):\n",
    "        total = 0\n",
    "        if empresa == 'Innovexa Solutions':\n",
    "            total = peticiones_exitosas * precios['Innovexa Solutions'] + peticiones_exitosas * precios['Innovexa Solutions'] * iva\n",
    "        elif empresa == 'NexaTech Industries':\n",
    "            if peticiones_totales <= 10000:\n",
    "                total = peticiones_exitosas*precios['NexaTech Industries'][0] + peticiones_exitosas*precios['NexaTech Industries'][0]*iva\n",
    "            elif peticiones_totales <= 20000:\n",
    "                total = peticiones_exitosas*precios['NexaTech Industries'][1] + peticiones_exitosas*precios['NexaTech Industries'][1]*iva\n",
    "            else:\n",
    "                total = peticiones_exitosas*precios['NexaTech Industries'][2] + peticiones_exitosas*precios['NexaTech Industries'][2]*iva\n",
    "        elif empresa == 'QuantumLeap Inc.':\n",
    "            total = peticiones_exitosas*precios['QuantumLeap Inc.'] + peticiones_exitosas*precios['QuantumLeap Inc.']*iva\n",
    "        elif empresa == 'Zenith Corp.':\n",
    "            if peticiones_totales >= 0 and peticiones_totales <= 22000:\n",
    "                total = peticiones_exitosas*precios['Zenith Corp.'][0] + peticiones_exitosas*precios['Zenith Corp.'][0]*iva\n",
    "            elif peticiones_totales >= 22001:\n",
    "                total = peticiones_exitosas*precios['Zenith Corp.'][1] + peticiones_exitosas*precios['Zenith Corp.'][1]*iva\n",
    "            if peticiones_fallidas >= 6000:\n",
    "                total = total - total*0.05\n",
    "        elif empresa == 'FusionWave Enterprises':\n",
    "            total = peticiones_exitosas*precios['FusionWave Enterprises'] + peticiones_exitosas*precios['FusionWave Enterprises']*iva\n",
    "            if 2500 <= peticiones_fallidas <= 4500:\n",
    "                total = total - total*0.05  # Descuento del 5% antes de IVA\n",
    "            elif peticiones_fallidas > 4501:\n",
    "                total = total - total*0.08\n",
    "        return total\n",
    "\n",
    "    # Función principal con parametrización de mes, precios e IVA\n",
    "    def calcular_comision(self, mes, precios, iva):\n",
    "        # Ejecutar la consulta SQL y crear la tabla temporal 'resultado'\n",
    "        self.obtener_datos(mes)\n",
    "        \n",
    "        # Leer los datos de la tabla resultado desde SQLite a un DataFrame de pandas\n",
    "        resultado = pd.read_sql(\"SELECT * FROM resultado\", self.conn)\n",
    "        commerce = pd.read_sql(\"SELECT * FROM commerce\", self.conn)\n",
    "        \n",
    "        # Agrupar por 'commerce_id' y 'ask_status' para contar peticiones exitosas y fallidas\n",
    "        resultado_tab = pd.crosstab(resultado['commerce_id'], resultado['ask_status'])\n",
    "        resultado_tab['Total'] = resultado_tab['Successful'] + resultado_tab['Unsuccessful']\n",
    "\n",
    "        # Unir 'resultado_tab' con la tabla 'commerce' para obtener nombre, NIT y correo\n",
    "        resultado_tab = resultado_tab.merge(commerce[['commerce_id', 'commerce_name', 'commerce_nit', 'commerce_email']], \n",
    "                                            left_on='commerce_id', right_on='commerce_id', how='left')\n",
    "        \n",
    "        # Aplicar la función de cobro a cada empresa\n",
    "        resultado_tab['Cobro Total'] = resultado_tab.apply(\n",
    "            lambda row: self.cobro_peticiones(row['commerce_name'], row['Successful'], row['Unsuccessful'], row['Total'], precios, iva), axis=1)\n",
    "\n",
    "        # Añadir los campos requeridos directamente a resultado_tab\n",
    "        resultado_tab['Fecha-Mes'] = mes  # Mes parametrizado\n",
    "        resultado_tab['Valor_comision'] = resultado_tab['Cobro Total'] / (1 + iva)  # Comisión sin IVA\n",
    "        resultado_tab['Valor_iva'] = resultado_tab['Valor_comision'] * iva  # IVA\n",
    "        resultado_tab['Valor_Total'] = resultado_tab['Cobro Total']  # Total con IVA\n",
    "        \n",
    "        return resultado_tab"
   ]
  },
  {
   "cell_type": "code",
   "execution_count": null,
   "metadata": {},
   "outputs": [],
   "source": []
  },
  {
   "cell_type": "code",
   "execution_count": 3,
   "metadata": {},
   "outputs": [
    {
     "ename": "NameError",
     "evalue": "name 'sqlite3' is not defined",
     "output_type": "error",
     "traceback": [
      "\u001b[1;31m---------------------------------------------------------------------------\u001b[0m",
      "\u001b[1;31mNameError\u001b[0m                                 Traceback (most recent call last)",
      "Cell \u001b[1;32mIn[3], line 2\u001b[0m\n\u001b[0;32m      1\u001b[0m \u001b[38;5;66;03m# Conectar a la base de datos SQLite\u001b[39;00m\n\u001b[1;32m----> 2\u001b[0m conn \u001b[38;5;241m=\u001b[39m sqlite3\u001b[38;5;241m.\u001b[39mconnect(\u001b[38;5;124m'\u001b[39m\u001b[38;5;124mC:/Prueba_ecosistemas/database.sqlite\u001b[39m\u001b[38;5;124m'\u001b[39m)\n\u001b[0;32m      4\u001b[0m \u001b[38;5;66;03m# Crear instancia de la clase\u001b[39;00m\n\u001b[0;32m      5\u001b[0m calculo \u001b[38;5;241m=\u001b[39m Calculo_comisiones(conn)\n",
      "\u001b[1;31mNameError\u001b[0m: name 'sqlite3' is not defined"
     ]
    }
   ],
   "source": [
    "# Conectar a la base de datos SQLite\n",
    "conn = sqlite3.connect('C:/Prueba_ecosistemas/database.sqlite')\n",
    "\n",
    "# Crear instancia de la clase\n",
    "calculo = Calculo_comisiones(conn)"
   ]
  },
  {
   "cell_type": "code",
   "execution_count": null,
   "metadata": {},
   "outputs": [],
   "source": [
    "# Definir precios y el IVA\n",
    "precios = {\n",
    "    'Innovexa Solutions': 300,\n",
    "    'NexaTech Industries': [250, 200, 170],\n",
    "    'QuantumLeap Inc.': 600,\n",
    "    'Zenith Corp.': [250, 130],\n",
    "    'FusionWave Enterprises': 300\n",
    "}\n",
    "iva = 0.19\n",
    "mes = '2024-07'  "
   ]
  },
  {
   "cell_type": "code",
   "execution_count": null,
   "metadata": {},
   "outputs": [],
   "source": [
    "resultado_tab = calculo.calcular_comision(mes, precios, iva)\n",
    "\n",
    "# Filtrar columnas relevantes\n",
    "df_final = resultado_tab[['Fecha-Mes', 'commerce_name', 'commerce_nit', 'Valor_comision', 'Valor_iva', 'Valor_Total', 'commerce_email']]\n",
    "df_final = df_final.rename(columns={'commerce_name': 'Nombre', 'commerce_nit': 'Nit', 'commerce_email': 'Correo'})\n",
    "\n"
   ]
  }
 ],
 "metadata": {
  "kernelspec": {
   "display_name": "ENV_TGI",
   "language": "python",
   "name": "python3"
  },
  "language_info": {
   "codemirror_mode": {
    "name": "ipython",
    "version": 3
   },
   "file_extension": ".py",
   "mimetype": "text/x-python",
   "name": "python",
   "nbconvert_exporter": "python",
   "pygments_lexer": "ipython3",
   "version": "3.12.1"
  }
 },
 "nbformat": 4,
 "nbformat_minor": 2
}
